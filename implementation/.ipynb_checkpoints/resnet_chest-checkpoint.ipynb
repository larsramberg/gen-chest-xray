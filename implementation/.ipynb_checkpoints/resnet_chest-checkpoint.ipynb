{
 "cells": [
  {
   "cell_type": "markdown",
   "id": "e372d865-a79c-4666-826d-ac08ae788bc1",
   "metadata": {},
   "source": [
    "Import and constants"
   ]
  },
  {
   "cell_type": "code",
   "execution_count": null,
   "id": "056c6af8-112c-459c-b003-c3022c9db07c",
   "metadata": {},
   "outputs": [],
   "source": [
    "from torch import nn, optim, float32, IntTensor, FloatTensor\n",
    "from torch.utils.data import Dataset, DataLoader\n",
    "from torchvision import datasets, models\n",
    "from torchvision.io import read_image, ImageReadMode\n",
    "import torchvision.transforms as transforms\n",
    "import os\n",
    "import pandas as pd\n",
    "import torchvision\n",
    "import matplotlib.pyplot as plt\n",
    "from PIL import Image"
   ]
  },
  {
   "cell_type": "code",
   "execution_count": null,
   "id": "45674c6c-cab1-4306-ad87-810aa009d6b8",
   "metadata": {},
   "outputs": [],
   "source": [
    "debug = True"
   ]
  },
  {
   "cell_type": "markdown",
   "id": "7b184508-db71-4cc9-994a-1853d8cb918c",
   "metadata": {},
   "source": [
    "Important paths"
   ]
  },
  {
   "cell_type": "code",
   "execution_count": null,
   "id": "61661b72-bd3f-4787-85bf-a52fa5eac420",
   "metadata": {},
   "outputs": [],
   "source": [
    "# Names and base paths, define here and combine\n",
    "db_path = \"/cluster/home/larsira/tdt4900/databases/chest_xray14/\"\n",
    "img_dir_name = \"images\"\n",
    "annotations_file = os.path.join(db_path, \"data_list.csv\")\n",
    "\n",
    "img_dir = os.path.join(db_path, img_dir_name)"
   ]
  },
  {
   "cell_type": "markdown",
   "id": "2367fd53-7edb-45f1-9827-e36ba116fb0b",
   "metadata": {},
   "source": [
    "Sanity check data"
   ]
  },
  {
   "cell_type": "code",
   "execution_count": null,
   "id": "ed3127a0-b224-4ebe-aa4d-e0d9643e8a1b",
   "metadata": {},
   "outputs": [],
   "source": [
    "# Load the first image and see what is up\n",
    "image = Image.open(os.path.join(img_dir, \"00000001_000.png\"))\n",
    "\n",
    "# Load annotations file and inspect a label\n",
    "annotations = pd.read_csv(os.path.join(db_path, annotations_file))\n",
    "\n",
    "if debug:\n",
    "    print(annotations.iloc[1])\n",
    "    print(\"This patient is aflicted with:\", annotations[\"Finding Labels\"])\n",
    "    print(image)\n",
    "    plt.imshow(image)"
   ]
  },
  {
   "cell_type": "markdown",
   "id": "1d4408df-b60f-45a0-b148-60112b657b3a",
   "metadata": {},
   "source": [
    "Fetch relevant labels from dataset"
   ]
  },
  {
   "cell_type": "code",
   "execution_count": null,
   "id": "1d99a098-753a-4ab1-b6fb-08c04fe3522d",
   "metadata": {},
   "outputs": [],
   "source": [
    "labels = set([x for y in [x.split(\"|\") for x in annotations[\"Finding Labels\"]] for x in y])\n",
    "labels.remove(\"No Finding\")\n",
    "print(labels, \"There are\", len(labels), \"labels available\")"
   ]
  },
  {
   "cell_type": "markdown",
   "id": "9d114af8-d710-4b32-b2e4-f1dba6171c98",
   "metadata": {},
   "source": [
    "Define transform operation for label"
   ]
  },
  {
   "cell_type": "code",
   "execution_count": null,
   "id": "f6d3aaf0-84a5-4386-8159-c488ed278f26",
   "metadata": {},
   "outputs": [],
   "source": [
    "def to_numeric_label(in_label):\n",
    "    in_label = in_label.split(\"|\")\n",
    "    return FloatTensor([1 if (x in in_label) else 0 for x in labels])"
   ]
  },
  {
   "cell_type": "markdown",
   "id": "9a135d50-a21c-4626-a6c7-b631f66bcfb8",
   "metadata": {},
   "source": [
    "Define custom dataset"
   ]
  },
  {
   "cell_type": "code",
   "execution_count": null,
   "id": "7cb549dd-93bb-4ed2-83f3-dc252464d81a",
   "metadata": {},
   "outputs": [],
   "source": [
    "class ChestXRayDataset(Dataset):\n",
    "    def __init__(self, annotations_file, img_dir, transform=None, target_transform=None):\n",
    "        self.img_labels = pd.read_csv(annotations_file)\n",
    "        self.img_dir = img_dir\n",
    "        self.transform = transform\n",
    "        self.target_transform = target_transform\n",
    "\n",
    "    def __len__(self):\n",
    "        return len(self.img_labels)\n",
    "\n",
    "    def __getitem__(self, idx):\n",
    "        img_path = os.path.join(self.img_dir, self.img_labels.iloc[idx, 0])\n",
    "        image = read_image(path=img_path, mode=ImageReadMode.RGB)\n",
    "        label = self.img_labels.iloc[idx, 1]\n",
    "        if self.transform:\n",
    "            print(image.shape)\n",
    "            image = self.transform(image)\n",
    "        if self.target_transform:\n",
    "            label = self.target_transform(label)\n",
    "        return image, label"
   ]
  },
  {
   "cell_type": "markdown",
   "id": "ddd8c622-407c-4586-ae8f-1c2763973ab3",
   "metadata": {},
   "source": [
    "Load into dataset, define a data loader"
   ]
  },
  {
   "cell_type": "code",
   "execution_count": null,
   "id": "f53d5c1d-cd8f-4af4-b542-a8e32d58e02b",
   "metadata": {},
   "outputs": [],
   "source": [
    "batch_size = 8\n",
    "transform = transforms.Compose(\n",
    "    [transforms.ConvertImageDtype(float32),\n",
    "    transforms.Normalize((0.5,), (0.5,))])\n",
    "dataset = ChestXRayDataset(annotations_file, img_dir, transform, to_numeric_label)\n",
    "loader = DataLoader(dataset, batch_size = batch_size)\n",
    "\n",
    "for idx, value in enumerate(loader):\n",
    "    test_img, test_lab = value\n",
    "    img = test_img[0]\n",
    "    label = test_lab[0]\n",
    "    if idx == 100:\n",
    "        break"
   ]
  },
  {
   "cell_type": "markdown",
   "id": "05e72e4a-1d0b-4359-aecd-818ad6d04c4b",
   "metadata": {},
   "source": [
    "So here, we should probably define ourselves a model"
   ]
  },
  {
   "cell_type": "code",
   "execution_count": null,
   "id": "290fbdbe-3cb9-419d-a1f9-3da62c887897",
   "metadata": {},
   "outputs": [],
   "source": [
    "model = models.resnet101(weights=None)\n",
    "model.fc = nn.Linear(2048, len(labels))"
   ]
  },
  {
   "cell_type": "code",
   "execution_count": null,
   "id": "23ab9d3c-ec55-48ad-b02d-924380771ee5",
   "metadata": {},
   "outputs": [],
   "source": [
    "# Hyper params\n",
    "lr = 10e-4\n",
    "\n",
    "optimizer = optim.SGD(model.parameters(), lr=lr)\n",
    "loss_fn = nn.CrossEntropyLoss()\n",
    "\n",
    "def train_epoch(idx, data_loader):\n",
    "    prev_loss = 0\n",
    "    running_loss = 0\n",
    "    \n",
    "    for i, data in enumerate(data_loader):\n",
    "        inputs, labels = data\n",
    "\n",
    "        optimizer.zero_grad()\n",
    "        outputs = model(inputs)\n",
    "        loss = loss_fn(outputs, labels)\n",
    "        loss.backward()\n",
    "        optimizer.step()\n",
    "        running_loss += loss.item()\n",
    "        if i % 1000 == 999:\n",
    "            last_loss = running_loss / 1000\n",
    "            print(\"batch {} loss: {}\".format(i+1, last_loss))\n",
    "            running_loss = 0.\n",
    "    \n",
    "    return last_loss"
   ]
  },
  {
   "cell_type": "code",
   "execution_count": null,
   "id": "1cb4fd06-6845-4efc-bf87-26195374be2f",
   "metadata": {},
   "outputs": [],
   "source": [
    "epochs = 10\n",
    "best_loss = 10_000_000.\n",
    "\n",
    "for epoch in range(epochs):\n",
    "    model.train(True)\n",
    "\n",
    "    avg_loss = train_epoch(epoch, loader)\n",
    "\n",
    "    running_validation_loss = 0\n",
    "    model.eval()\n",
    "    with torch.no_grad():\n",
    "        for i, vdata in enumerate(validation_loader):\n",
    "            validation_inputs, validation_labesl = vdata\n",
    "            validation_output = model(validation_inputs)\n",
    "            validation_loss = loss_fn(validation_outputs, validation_inputs)\n",
    "            running_validation_loss += validation_loss\n",
    "    avg_validation_loss = running_validation_loss/(i+1)\n",
    "\n",
    "    if avg_validation_loss < best_loss:\n",
    "        best_loss = avg_loss\n",
    "        torch.save(model.state_dict(), \"model_{}_{}\".format(epoch, epoch))"
   ]
  },
  {
   "cell_type": "code",
   "execution_count": null,
   "id": "f79a3719-0bd7-4754-9897-03b8f4eedbbd",
   "metadata": {},
   "outputs": [],
   "source": []
  }
 ],
 "metadata": {
  "kernelspec": {
   "display_name": "Python 3 (ipykernel)",
   "language": "python",
   "name": "python3"
  },
  "language_info": {
   "codemirror_mode": {
    "name": "ipython",
    "version": 3
   },
   "file_extension": ".py",
   "mimetype": "text/x-python",
   "name": "python",
   "nbconvert_exporter": "python",
   "pygments_lexer": "ipython3",
   "version": "3.10.4"
  }
 },
 "nbformat": 4,
 "nbformat_minor": 5
}
