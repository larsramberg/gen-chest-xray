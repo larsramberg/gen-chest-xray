{
 "cells": [
  {
   "cell_type": "code",
   "execution_count": 25,
   "id": "566ff1d1-ffdb-4ac5-bf26-b55681079abe",
   "metadata": {},
   "outputs": [
    {
     "name": "stdout",
     "output_type": "stream",
     "text": [
      "2024-04-07 18:43:25.405990\n"
     ]
    }
   ],
   "source": [
    "import pandas as pd\n",
    "import numpy as np\n",
    "from datahandling.dataloader import get_list_from_txt, extract_annotation_targets\n",
    "from dotenv import load_dotenv\n",
    "import os\n",
    "from tqdm import tqdm\n",
    "from datetime import datetime\n",
    "\n",
    "now = datetime.now()\n",
    "print(now)\n",
    "\n",
    "from datetime import datetime"
   ]
  },
  {
   "cell_type": "code",
   "execution_count": 2,
   "id": "aa184903-9679-44a6-9ec9-5994f79cc34c",
   "metadata": {},
   "outputs": [
    {
     "name": "stdout",
     "output_type": "stream",
     "text": [
      "Hello, World!\n"
     ]
    }
   ],
   "source": [
    "print(\"Hello, World!\")"
   ]
  },
  {
   "cell_type": "code",
   "execution_count": 42,
   "id": "f94d0a57-6a1a-4b96-81ad-a48ffede95de",
   "metadata": {},
   "outputs": [],
   "source": [
    "load_dotenv()\n",
    "db_path = \"/cluster/home/larsira/tdt4900/databases/vindr_cxr\"\n",
    "train_file_name = \"image_labels_train.csv\"\n",
    "test_file_name = \"image_labels_test.csv\"\n",
    "\n",
    "train_pd = pd.read_csv(os.path.join(db_path, train_file_name))\n",
    "test_pd = pd.read_csv(os.path.join(db_path, test_file_name))\n",
    "\n",
    "\n",
    "img_ids = set(train_pd[\"image_id\"].tolist())\n",
    "train_pd = train_pd.drop(columns=[\"rad_id\"])\n",
    "# print(train_pd.columns)\n",
    "# compressed = pd.DataFrame(columns=train_pd.columns[1:,])\n",
    "# df.loc[\"fdf\"] = np.ones(28)"
   ]
  },
  {
   "cell_type": "code",
   "execution_count": 44,
   "id": "4e192ba6-a39f-476e-b1bc-c06441da265a",
   "metadata": {},
   "outputs": [
    {
     "name": "stderr",
     "output_type": "stream",
     "text": [
      "100%|██████████| 15000/15000 [01:25<00:00, 174.44it/s]\n"
     ]
    }
   ],
   "source": [
    "compressed = pd.DataFrame(columns=train_pd.columns[1:,])\n",
    "\n",
    "for id in tqdm(img_ids):\n",
    "    matches = train_pd[train_pd[\"image_id\"] == id]\n",
    "    compressed_row = np.zeros(28, dtype=np.int8)\n",
    "    for i in range(len(matches)):\n",
    "        diseases = matches.iloc[i].values[1:,]\n",
    "        compressed_row = np.add(compressed_row, diseases)\n",
    "    compressed.loc[id] = np.clip(compressed_row,0,1)"
   ]
  },
  {
   "cell_type": "code",
   "execution_count": 45,
   "id": "6b5e7577-cc18-49d0-b108-7beab6e98209",
   "metadata": {},
   "outputs": [
    {
     "name": "stdout",
     "output_type": "stream",
     "text": [
      "                                 Aortic enlargement Atelectasis Calcification  \\\n",
      "feb24760f15f661154ccc371571ceb4b                  1           0             0   \n",
      "5bec399818c08d3463ffb412735d4c9b                  0           0             0   \n",
      "b335c0fe90be85d8f1a62ca56a9ade3c                  0           0             0   \n",
      "3884726ab4793df899a6f3767c971d0e                  0           0             0   \n",
      "562c018c763496c3bde0f378a7e6ce95                  0           0             0   \n",
      "...                                             ...         ...           ...   \n",
      "586dab2fc5296b27dde17df1337bb8f1                  0           0             0   \n",
      "124235acd64d47008e0d5e55ba0cb1b0                  0           0             0   \n",
      "b77b6064737f5bb86d979b5f73bdb894                  0           0             0   \n",
      "810470b77c45ea68e800052d56192d79                  0           0             0   \n",
      "d790c8ade28cbc2ed3aa6c561b986bd2                  0           0             0   \n",
      "\n",
      "                                 Cardiomegaly Clavicle fracture Consolidation  \\\n",
      "feb24760f15f661154ccc371571ceb4b            1                 0             0   \n",
      "5bec399818c08d3463ffb412735d4c9b            0                 0             0   \n",
      "b335c0fe90be85d8f1a62ca56a9ade3c            0                 0             0   \n",
      "3884726ab4793df899a6f3767c971d0e            0                 0             0   \n",
      "562c018c763496c3bde0f378a7e6ce95            0                 0             0   \n",
      "...                                       ...               ...           ...   \n",
      "586dab2fc5296b27dde17df1337bb8f1            0                 0             0   \n",
      "124235acd64d47008e0d5e55ba0cb1b0            0                 0             0   \n",
      "b77b6064737f5bb86d979b5f73bdb894            0                 0             0   \n",
      "810470b77c45ea68e800052d56192d79            0                 0             0   \n",
      "d790c8ade28cbc2ed3aa6c561b986bd2            0                 0             0   \n",
      "\n",
      "                                 Edema Emphysema Enlarged PA ILD  ...  \\\n",
      "feb24760f15f661154ccc371571ceb4b     0         0           0   0  ...   \n",
      "5bec399818c08d3463ffb412735d4c9b     0         0           0   0  ...   \n",
      "b335c0fe90be85d8f1a62ca56a9ade3c     0         0           0   0  ...   \n",
      "3884726ab4793df899a6f3767c971d0e     0         0           0   0  ...   \n",
      "562c018c763496c3bde0f378a7e6ce95     0         0           0   0  ...   \n",
      "...                                ...       ...         ...  ..  ...   \n",
      "586dab2fc5296b27dde17df1337bb8f1     0         0           0   0  ...   \n",
      "124235acd64d47008e0d5e55ba0cb1b0     0         0           0   0  ...   \n",
      "b77b6064737f5bb86d979b5f73bdb894     0         0           0   0  ...   \n",
      "810470b77c45ea68e800052d56192d79     0         0           0   0  ...   \n",
      "d790c8ade28cbc2ed3aa6c561b986bd2     0         0           0   0  ...   \n",
      "\n",
      "                                 Pneumothorax Pulmonary fibrosis Rib fracture  \\\n",
      "feb24760f15f661154ccc371571ceb4b            0                  0            0   \n",
      "5bec399818c08d3463ffb412735d4c9b            0                  0            0   \n",
      "b335c0fe90be85d8f1a62ca56a9ade3c            0                  0            0   \n",
      "3884726ab4793df899a6f3767c971d0e            0                  0            0   \n",
      "562c018c763496c3bde0f378a7e6ce95            0                  0            0   \n",
      "...                                       ...                ...          ...   \n",
      "586dab2fc5296b27dde17df1337bb8f1            0                  0            0   \n",
      "124235acd64d47008e0d5e55ba0cb1b0            0                  0            0   \n",
      "b77b6064737f5bb86d979b5f73bdb894            0                  0            0   \n",
      "810470b77c45ea68e800052d56192d79            0                  0            0   \n",
      "d790c8ade28cbc2ed3aa6c561b986bd2            0                  0            0   \n",
      "\n",
      "                                 Other lesion COPD Lung tumor Pneumonia  \\\n",
      "feb24760f15f661154ccc371571ceb4b            0    0          0         0   \n",
      "5bec399818c08d3463ffb412735d4c9b            0    0          0         0   \n",
      "b335c0fe90be85d8f1a62ca56a9ade3c            0    0          0         0   \n",
      "3884726ab4793df899a6f3767c971d0e            0    0          0         0   \n",
      "562c018c763496c3bde0f378a7e6ce95            0    0          0         0   \n",
      "...                                       ...  ...        ...       ...   \n",
      "586dab2fc5296b27dde17df1337bb8f1            0    0          0         0   \n",
      "124235acd64d47008e0d5e55ba0cb1b0            0    0          0         0   \n",
      "b77b6064737f5bb86d979b5f73bdb894            0    0          0         0   \n",
      "810470b77c45ea68e800052d56192d79            0    0          0         0   \n",
      "d790c8ade28cbc2ed3aa6c561b986bd2            0    0          0         0   \n",
      "\n",
      "                                 Tuberculosis Other diseases No finding  \n",
      "feb24760f15f661154ccc371571ceb4b            0              1          0  \n",
      "5bec399818c08d3463ffb412735d4c9b            0              0          1  \n",
      "b335c0fe90be85d8f1a62ca56a9ade3c            0              0          1  \n",
      "3884726ab4793df899a6f3767c971d0e            0              0          1  \n",
      "562c018c763496c3bde0f378a7e6ce95            0              0          1  \n",
      "...                                       ...            ...        ...  \n",
      "586dab2fc5296b27dde17df1337bb8f1            0              0          1  \n",
      "124235acd64d47008e0d5e55ba0cb1b0            0              0          1  \n",
      "b77b6064737f5bb86d979b5f73bdb894            0              0          1  \n",
      "810470b77c45ea68e800052d56192d79            0              0          1  \n",
      "d790c8ade28cbc2ed3aa6c561b986bd2            0              0          1  \n",
      "\n",
      "[15000 rows x 28 columns]\n"
     ]
    }
   ],
   "source": [
    "print(compressed)"
   ]
  }
 ],
 "metadata": {
  "kernelspec": {
   "display_name": "Python 3 (ipykernel)",
   "language": "python",
   "name": "python3"
  },
  "language_info": {
   "codemirror_mode": {
    "name": "ipython",
    "version": 3
   },
   "file_extension": ".py",
   "mimetype": "text/x-python",
   "name": "python",
   "nbconvert_exporter": "python",
   "pygments_lexer": "ipython3",
   "version": "3.10.4"
  }
 },
 "nbformat": 4,
 "nbformat_minor": 5
}
