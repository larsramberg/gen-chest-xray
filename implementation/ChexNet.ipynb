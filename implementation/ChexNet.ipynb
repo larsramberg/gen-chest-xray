{
 "cells": [
  {
   "cell_type": "code",
   "execution_count": 1,
   "id": "7c3e3cd1-a40e-4b35-a948-798d5999f566",
   "metadata": {},
   "outputs": [],
   "source": [
    "from torchvision import transforms\n",
    "from models.classifiers import chexnet, chexnet_train_one_epoch, chexnet_test_net, fit_chexnet\n",
    "import torch.optim\n",
    "from torch.utils.data import DataLoader\n",
    "from dotenv import load_dotenv\n",
    "import os\n",
    "from util.plot_tools import show_and_save_series_plot, save_series_plot\n",
    "from datahandling.transforms import to_numeric_label, to_class_int\n",
    "from dataset.chestxray import ChestXRayDataset\n",
    "from torch.utils.tensorboard import SummaryWriter\n",
    "from accelerate import Accelerator"
   ]
  },
  {
   "cell_type": "markdown",
   "id": "ebc7ffdb-be88-4673-aeec-4879591fe176",
   "metadata": {},
   "source": [
    "# Load Environment variables"
   ]
  },
  {
   "cell_type": "code",
   "execution_count": 2,
   "id": "9fcda9e1-3405-4b79-8c8c-c4e98e66408b",
   "metadata": {},
   "outputs": [],
   "source": [
    "load_dotenv()\n",
    "db_path = os.getenv(\"DB_PATH\")\n",
    "img_dir_name = os.getenv(\"IMG_DIR\")\n",
    "\n",
    "annotation_folder = os.path.join(db_path, \"training_sets/chexnet\")\n",
    "img_dir = os.path.join(db_path, img_dir_name)\n",
    "torch.cuda.empty_cache()"
   ]
  },
  {
   "cell_type": "markdown",
   "id": "c5875329-16ca-46ec-9c8a-8d97f3c4e8cf",
   "metadata": {},
   "source": [
    "# Load Data"
   ]
  },
  {
   "cell_type": "code",
   "execution_count": 4,
   "id": "061200f7-ed68-4b6b-bce7-51a3db7d08d7",
   "metadata": {},
   "outputs": [
    {
     "name": "stdout",
     "output_type": "stream",
     "text": [
      "Tesla V100-PCIE-16GB\n"
     ]
    }
   ],
   "source": [
    "device = \"cuda\"\n",
    "print(torch.cuda.get_device_name(device))\n",
    "transform = transforms.Compose([\n",
    "    transforms.RandomHorizontalFlip(p=0.5),\n",
    "    transforms.Resize((224, 224)),\n",
    "    transforms.ToTensor(),\n",
    "    transforms.Normalize(mean=[0.485, 0.456, 0.406], std=[0.229, 0.224, 0.225])\n",
    "])\n",
    "\n",
    "batch_size = 16\n",
    "num_workers = 1\n",
    "\n",
    "train_set = ChestXRayDataset(os.path.join(annotation_folder, \"train_gh.csv\"), img_dir, read_lib=\"pil\", transform=transform, target_transform=to_numeric_label)\n",
    "val_set = ChestXRayDataset(os.path.join(annotation_folder, \"validation_gh.csv\"), img_dir, read_lib=\"pil\", transform=transform, target_transform=to_numeric_label)\n",
    "test_set = ChestXRayDataset(os.path.join(annotation_folder, \"test_gh.csv\"), img_dir, read_lib=\"pil\", transform=transform, target_transform=to_numeric_label)\n",
    "\n",
    "train_loader = DataLoader(train_set, batch_size, num_workers=num_workers, pin_memory=True)\n",
    "val_loader = DataLoader(val_set, batch_size, num_workers=num_workers, pin_memory=True)\n",
    "test_set = DataLoader(test_set, batch_size, num_workers=num_workers, pin_memory=True)"
   ]
  },
  {
   "cell_type": "code",
   "execution_count": 5,
   "id": "b0e3e4ef-838f-4d34-9cfb-7b6c381efdf5",
   "metadata": {},
   "outputs": [
    {
     "data": {
      "text/plain": [
       "702"
      ]
     },
     "execution_count": 5,
     "metadata": {},
     "output_type": "execute_result"
    }
   ],
   "source": [
    "model = chexnet(len(ChestXRayDataset.target_labels), device)\n",
    "len(val_loader)"
   ]
  },
  {
   "cell_type": "code",
   "execution_count": null,
   "id": "3cda1e7e-1fa2-4dbf-b00b-931f84440f95",
   "metadata": {},
   "outputs": [
    {
     "name": "stderr",
     "output_type": "stream",
     "text": [
      "  0%|          | 0/100 [00:00<?, ?it/s]"
     ]
    },
    {
     "name": "stdout",
     "output_type": "stream",
     "text": [
      "Starting epoch 1 out of 100\n"
     ]
    },
    {
     "name": "stderr",
     "output_type": "stream",
     "text": [
      "\n",
      "  0%|          | 0/4905 [00:00<?, ?it/s]\u001b[A\n",
      "  0%|          | 0/4905 [00:10<?, ?it/s]\u001b[A\n",
      "  1%|          | 36/4905 [01:40<3:46:45,  2.79s/it]\u001b[A\n",
      "  4%|▍         | 190/4905 [03:20<1:14:46,  1.05it/s]\u001b[A\n",
      "  7%|▋         | 347/4905 [05:00<59:01,  1.29it/s]  \u001b[A\n",
      " 10%|█         | 496/4905 [06:41<53:53,  1.36it/s]\u001b[A"
     ]
    },
    {
     "name": "stdout",
     "output_type": "stream",
     "text": [
      "Last average training loss at batch 500 out of 4905: 1.5571964521706105\n"
     ]
    },
    {
     "name": "stderr",
     "output_type": "stream",
     "text": [
      "\n",
      " 13%|█▎        | 648/4905 [08:21<50:03,  1.42it/s]\u001b[A\n",
      " 16%|█▌        | 773/4905 [10:02<50:38,  1.36it/s]\u001b[A\n",
      " 19%|█▉        | 931/4905 [11:42<46:23,  1.43it/s]\u001b[A"
     ]
    },
    {
     "name": "stdout",
     "output_type": "stream",
     "text": [
      "Last average training loss at batch 1000 out of 4905: 1.4753681226670743\n"
     ]
    },
    {
     "name": "stderr",
     "output_type": "stream",
     "text": [
      "\n",
      " 22%|██▏       | 1080/4905 [13:23<44:03,  1.45it/s]\u001b[A\n",
      " 25%|██▌       | 1230/4905 [15:03<41:51,  1.46it/s]\u001b[A\n",
      " 28%|██▊       | 1392/4905 [16:43<38:45,  1.51it/s]\u001b[A"
     ]
    },
    {
     "name": "stdout",
     "output_type": "stream",
     "text": [
      "Last average training loss at batch 1500 out of 4905: 1.5289007191210986\n"
     ]
    },
    {
     "name": "stderr",
     "output_type": "stream",
     "text": [
      "\n",
      " 32%|███▏      | 1559/4905 [18:23<35:50,  1.56it/s]\u001b[A\n",
      " 35%|███▍      | 1713/4905 [20:04<34:19,  1.55it/s]\u001b[A\n",
      " 38%|███▊      | 1876/4905 [21:44<32:05,  1.57it/s]\u001b[A"
     ]
    },
    {
     "name": "stdout",
     "output_type": "stream",
     "text": [
      "Last average training loss at batch 2000 out of 4905: 1.6074951459765434\n"
     ]
    },
    {
     "name": "stderr",
     "output_type": "stream",
     "text": [
      "\n",
      " 41%|████▏     | 2034/4905 [23:24<30:23,  1.57it/s]\u001b[A\n",
      " 45%|████▍     | 2190/4905 [25:04<28:50,  1.57it/s]\u001b[A\n",
      " 48%|████▊     | 2342/4905 [26:45<27:30,  1.55it/s]\u001b[A\n",
      " 51%|█████     | 2499/4905 [28:25<25:44,  1.56it/s]\u001b[A"
     ]
    },
    {
     "name": "stdout",
     "output_type": "stream",
     "text": [
      "Last average training loss at batch 2500 out of 4905: 1.7512961757332086\n"
     ]
    },
    {
     "name": "stderr",
     "output_type": "stream",
     "text": [
      "\n",
      " 54%|█████▍    | 2657/4905 [30:05<23:58,  1.56it/s]\u001b[A\n",
      " 57%|█████▋    | 2801/4905 [31:45<23:00,  1.52it/s]\u001b[A\n",
      " 61%|██████    | 2970/4905 [33:26<20:31,  1.57it/s]\u001b[A"
     ]
    },
    {
     "name": "stdout",
     "output_type": "stream",
     "text": [
      "Last average training loss at batch 3000 out of 4905: 1.8589701232910156\n"
     ]
    },
    {
     "name": "stderr",
     "output_type": "stream",
     "text": [
      "\n",
      " 64%|██████▍   | 3134/4905 [35:06<18:33,  1.59it/s]\u001b[A\n",
      " 67%|██████▋   | 3306/4905 [36:47<16:22,  1.63it/s]\u001b[A\n",
      " 71%|███████   | 3466/4905 [38:27<14:48,  1.62it/s]\u001b[A"
     ]
    },
    {
     "name": "stdout",
     "output_type": "stream",
     "text": [
      "Last average training loss at batch 3500 out of 4905: 1.9151112312674523\n"
     ]
    },
    {
     "name": "stderr",
     "output_type": "stream",
     "text": [
      "\n",
      " 74%|███████▍  | 3640/4905 [40:07<12:45,  1.65it/s]\u001b[A\n",
      " 77%|███████▋  | 3798/4905 [41:47<11:19,  1.63it/s]\u001b[A\n",
      " 81%|████████  | 3965/4905 [43:28<09:33,  1.64it/s]\u001b[A"
     ]
    },
    {
     "name": "stdout",
     "output_type": "stream",
     "text": [
      "Last average training loss at batch 4000 out of 4905: 1.9716805911958217\n"
     ]
    },
    {
     "name": "stderr",
     "output_type": "stream",
     "text": [
      "\n",
      " 84%|████████▍ | 4123/4905 [45:09<08:03,  1.62it/s]\u001b[A\n",
      " 87%|████████▋ | 4281/4905 [46:49<06:29,  1.60it/s]\u001b[A\n",
      " 91%|█████████ | 4448/4905 [48:31<04:42,  1.62it/s]\u001b[A"
     ]
    },
    {
     "name": "stdout",
     "output_type": "stream",
     "text": [
      "Last average training loss at batch 4500 out of 4905: 1.6345551625937222\n"
     ]
    },
    {
     "name": "stderr",
     "output_type": "stream",
     "text": [
      "\n",
      " 94%|█████████▍| 4630/4905 [50:11<02:44,  1.68it/s]\u001b[A\n",
      " 98%|█████████▊| 4803/4905 [51:51<01:00,  1.69it/s]\u001b[A\n",
      "                                                   \u001b[A"
     ]
    },
    {
     "name": "stdout",
     "output_type": "stream",
     "text": [
      "Last average training loss at batch 4905 out of 4905: 0.15136337850801077\n"
     ]
    },
    {
     "name": "stderr",
     "output_type": "stream",
     "text": [
      "\n",
      "  0%|          | 0/702 [00:00<?, ?it/s]\u001b[A\n",
      "  0%|          | 0/702 [00:14<?, ?it/s]\u001b[A\n",
      " 20%|█▉        | 137/702 [01:21<05:35,  1.68it/s]\u001b[A\n",
      " 36%|███▋      | 255/702 [02:41<04:46,  1.56it/s]\u001b[A\n",
      " 55%|█████▌    | 389/702 [04:01<03:14,  1.61it/s]\u001b[A\n",
      " 70%|██████▉   | 489/702 [05:21<02:25,  1.47it/s]\u001b[A\n",
      " 82%|████████▏ | 578/702 [06:42<01:32,  1.34it/s]\u001b[A\n",
      " 98%|█████████▊| 690/702 [08:02<00:08,  1.36it/s]\u001b[A\n",
      "                                                 \u001b[A"
     ]
    },
    {
     "name": "stdout",
     "output_type": "stream",
     "text": [
      "New best average validation loss of 1.6558479070663452 with accuracy 0.5988360064060689 during epoch 1\n"
     ]
    },
    {
     "name": "stderr",
     "output_type": "stream",
     "text": [
      "  1%|          | 1/100 [1:01:16<101:06:47, 3676.84s/it]"
     ]
    },
    {
     "name": "stdout",
     "output_type": "stream",
     "text": [
      "Starting epoch 2 out of 100\n"
     ]
    },
    {
     "name": "stderr",
     "output_type": "stream",
     "text": [
      "\n",
      "  0%|          | 0/4905 [00:00<?, ?it/s]\u001b[A\n",
      "  0%|          | 0/4905 [00:13<?, ?it/s]\u001b[A\n",
      "  3%|▎         | 145/4905 [01:40<54:51,  1.45it/s]\u001b[A\n",
      "  6%|▌         | 300/4905 [03:20<51:02,  1.50it/s]\u001b[A\n",
      "  9%|▉         | 447/4905 [05:00<49:56,  1.49it/s]\u001b[A"
     ]
    },
    {
     "name": "stdout",
     "output_type": "stream",
     "text": [
      "Last average training loss at batch 500 out of 4905: 1.5240159511864186\n"
     ]
    },
    {
     "name": "stderr",
     "output_type": "stream",
     "text": [
      "\n",
      " 12%|█▏        | 606/4905 [06:41<46:59,  1.52it/s]\u001b[A\n",
      " 15%|█▌        | 760/4905 [08:21<45:11,  1.53it/s]\u001b[A\n",
      " 18%|█▊        | 902/4905 [10:01<44:44,  1.49it/s]\u001b[A"
     ]
    },
    {
     "name": "stdout",
     "output_type": "stream",
     "text": [
      "Last average training loss at batch 1000 out of 4905: 1.457601981818676\n"
     ]
    },
    {
     "name": "stderr",
     "output_type": "stream",
     "text": [
      "\n",
      " 21%|██▏       | 1046/4905 [11:41<43:38,  1.47it/s]\u001b[A\n",
      " 24%|██▍       | 1176/4905 [13:21<43:49,  1.42it/s]\u001b[A\n",
      " 27%|██▋       | 1322/4905 [15:02<41:44,  1.43it/s]\u001b[A\n",
      " 30%|███       | 1487/4905 [16:42<38:01,  1.50it/s]\u001b[A"
     ]
    },
    {
     "name": "stdout",
     "output_type": "stream",
     "text": [
      "Last average training loss at batch 1500 out of 4905: 1.513955400750041\n"
     ]
    },
    {
     "name": "stderr",
     "output_type": "stream",
     "text": [
      "\n",
      " 34%|███▍      | 1657/4905 [18:24<34:55,  1.55it/s]\u001b[A\n",
      " 37%|███▋      | 1819/4905 [20:04<32:45,  1.57it/s]\u001b[A\n",
      " 41%|████      | 2000/4905 [21:44<29:30,  1.64it/s]\u001b[A"
     ]
    },
    {
     "name": "stdout",
     "output_type": "stream",
     "text": [
      "Last average training loss at batch 2000 out of 4905: 1.5940639101117848\n"
     ]
    },
    {
     "name": "stderr",
     "output_type": "stream",
     "text": [
      "\n",
      " 44%|████▍     | 2153/4905 [23:25<28:33,  1.61it/s]\u001b[A\n",
      " 47%|████▋     | 2309/4905 [25:05<27:10,  1.59it/s]\u001b[A\n",
      " 50%|█████     | 2462/4905 [26:45<25:53,  1.57it/s]\u001b[A"
     ]
    },
    {
     "name": "stdout",
     "output_type": "stream",
     "text": [
      "Last average training loss at batch 2500 out of 4905: 1.7349097891002894\n"
     ]
    },
    {
     "name": "stderr",
     "output_type": "stream",
     "text": [
      "\n",
      " 53%|█████▎    | 2622/4905 [28:25<24:06,  1.58it/s]\u001b[A\n",
      " 57%|█████▋    | 2783/4905 [30:06<22:17,  1.59it/s]\u001b[A\n",
      " 60%|██████    | 2951/4905 [31:46<20:11,  1.61it/s]\u001b[A"
     ]
    },
    {
     "name": "stdout",
     "output_type": "stream",
     "text": [
      "Last average training loss at batch 3000 out of 4905: 1.844090951949358\n"
     ]
    },
    {
     "name": "stderr",
     "output_type": "stream",
     "text": [
      "\n",
      " 63%|██████▎   | 3111/4905 [33:27<18:37,  1.61it/s]\u001b[A\n",
      " 67%|██████▋   | 3280/4905 [35:07<16:37,  1.63it/s]\u001b[A\n",
      " 70%|███████   | 3458/4905 [36:47<14:25,  1.67it/s]\u001b[A"
     ]
    },
    {
     "name": "stdout",
     "output_type": "stream",
     "text": [
      "Last average training loss at batch 3500 out of 4905: 1.89552629712224\n"
     ]
    },
    {
     "name": "stderr",
     "output_type": "stream",
     "text": [
      "\n",
      " 74%|███████▍  | 3623/4905 [38:28<12:50,  1.66it/s]\u001b[A\n",
      " 78%|███████▊  | 3802/4905 [40:08<10:49,  1.70it/s]\u001b[A\n",
      " 81%|████████  | 3976/4905 [41:49<09:03,  1.71it/s]\u001b[A"
     ]
    },
    {
     "name": "stdout",
     "output_type": "stream",
     "text": [
      "Last average training loss at batch 4000 out of 4905: 1.9547208655178547\n"
     ]
    },
    {
     "name": "stderr",
     "output_type": "stream",
     "text": [
      "\n",
      " 84%|████████▎ | 4099/4905 [43:29<08:35,  1.56it/s]\u001b[A\n",
      " 86%|████████▌ | 4202/4905 [45:10<08:21,  1.40it/s]\u001b[A\n",
      " 89%|████████▊ | 4353/4905 [46:50<06:25,  1.43it/s]\u001b[A"
     ]
    },
    {
     "name": "stdout",
     "output_type": "stream",
     "text": [
      "Last average training loss at batch 4500 out of 4905: 1.620621606901288\n"
     ]
    },
    {
     "name": "stderr",
     "output_type": "stream",
     "text": [
      "\n",
      " 92%|█████████▏| 4523/4905 [48:30<04:12,  1.51it/s]\u001b[A\n",
      " 95%|█████████▌| 4678/4905 [50:10<02:29,  1.52it/s]\u001b[A\n",
      " 99%|█████████▉| 4857/4905 [51:51<00:29,  1.60it/s]\u001b[A\n",
      "                                                   \u001b[A"
     ]
    },
    {
     "name": "stdout",
     "output_type": "stream",
     "text": [
      "Last average training loss at batch 4905 out of 4905: 0.15017288805694756\n"
     ]
    },
    {
     "name": "stderr",
     "output_type": "stream",
     "text": [
      "\n",
      "  0%|          | 0/702 [00:00<?, ?it/s]\u001b[A\n",
      "  0%|          | 0/702 [00:13<?, ?it/s]\u001b[A\n",
      " 21%|██        | 144/702 [01:20<05:10,  1.79it/s]\u001b[A\n",
      " 39%|███▉      | 275/702 [02:40<04:11,  1.70it/s]\u001b[A\n",
      " 59%|█████▊    | 412/702 [04:01<02:50,  1.70it/s]\u001b[A\n",
      " 78%|███████▊  | 549/702 [05:22<01:30,  1.70it/s]\u001b[A\n",
      " 98%|█████████▊| 687/702 [06:42<00:08,  1.71it/s]\u001b[A\n",
      "                                                 \u001b[A"
     ]
    },
    {
     "name": "stdout",
     "output_type": "stream",
     "text": [
      "New best average validation loss of 1.6428015232086182 with accuracy 0.6279419610806763 during epoch 2\n"
     ]
    },
    {
     "name": "stderr",
     "output_type": "stream",
     "text": [
      "  2%|▏         | 2/100 [2:00:27<98:04:14, 3602.60s/it] "
     ]
    },
    {
     "name": "stdout",
     "output_type": "stream",
     "text": [
      "Starting epoch 3 out of 100\n"
     ]
    },
    {
     "name": "stderr",
     "output_type": "stream",
     "text": [
      "\n",
      "  0%|          | 0/4905 [00:00<?, ?it/s]\u001b[A\n",
      "  0%|          | 0/4905 [00:12<?, ?it/s]\u001b[A\n",
      "  3%|▎         | 155/4905 [01:40<51:14,  1.54it/s]\u001b[A\n",
      "  7%|▋         | 321/4905 [03:20<47:26,  1.61it/s]\u001b[A\n",
      " 10%|█         | 497/4905 [05:00<43:50,  1.68it/s]\u001b[A"
     ]
    },
    {
     "name": "stdout",
     "output_type": "stream",
     "text": [
      "Last average training loss at batch 500 out of 4905: 1.5116862021982669\n"
     ]
    },
    {
     "name": "stderr",
     "output_type": "stream",
     "text": [
      "\n",
      " 14%|█▎        | 668/4905 [06:41<41:52,  1.69it/s]\u001b[A\n",
      " 17%|█▋        | 826/4905 [08:21<41:16,  1.65it/s]\u001b[A\n",
      " 20%|██        | 983/4905 [10:01<40:21,  1.62it/s]\u001b[A"
     ]
    },
    {
     "name": "stdout",
     "output_type": "stream",
     "text": [
      "Last average training loss at batch 1000 out of 4905: 1.4460592123121023\n"
     ]
    },
    {
     "name": "stderr",
     "output_type": "stream",
     "text": [
      "\n",
      " 23%|██▎       | 1135/4905 [11:41<39:36,  1.59it/s]\u001b[A\n",
      " 26%|██▌       | 1280/4905 [13:22<39:12,  1.54it/s]\u001b[A\n",
      " 29%|██▉       | 1434/4905 [15:02<37:35,  1.54it/s]\u001b[A"
     ]
    },
    {
     "name": "stdout",
     "output_type": "stream",
     "text": [
      "Last average training loss at batch 1500 out of 4905: 1.5028766314983368\n"
     ]
    },
    {
     "name": "stderr",
     "output_type": "stream",
     "text": [
      "\n",
      " 32%|███▏      | 1584/4905 [16:43<36:16,  1.53it/s]\u001b[A\n",
      " 35%|███▌      | 1728/4905 [18:23<35:19,  1.50it/s]\u001b[A\n",
      " 38%|███▊      | 1886/4905 [20:03<33:03,  1.52it/s]\u001b[A"
     ]
    },
    {
     "name": "stdout",
     "output_type": "stream",
     "text": [
      "Last average training loss at batch 2000 out of 4905: 1.581377822265029\n"
     ]
    },
    {
     "name": "stderr",
     "output_type": "stream",
     "text": [
      "\n",
      " 42%|████▏     | 2044/4905 [21:43<30:59,  1.54it/s]\u001b[A\n",
      " 45%|████▍     | 2201/4905 [23:24<29:12,  1.54it/s]\u001b[A\n",
      " 48%|████▊     | 2363/4905 [25:05<27:05,  1.56it/s]\u001b[A"
     ]
    },
    {
     "name": "stdout",
     "output_type": "stream",
     "text": [
      "Last average training loss at batch 2500 out of 4905: 1.7190680663734674\n"
     ]
    },
    {
     "name": "stderr",
     "output_type": "stream",
     "text": [
      "\n",
      " 52%|█████▏    | 2529/4905 [26:45<24:52,  1.59it/s]\u001b[A\n",
      " 54%|█████▍    | 2662/4905 [28:25<24:42,  1.51it/s]\u001b[A\n",
      " 57%|█████▋    | 2812/4905 [30:05<23:08,  1.51it/s]\u001b[A\n",
      " 61%|██████    | 2973/4905 [31:46<20:57,  1.54it/s]\u001b[A"
     ]
    },
    {
     "name": "stdout",
     "output_type": "stream",
     "text": [
      "Last average training loss at batch 3000 out of 4905: 1.8320198822915554\n"
     ]
    },
    {
     "name": "stderr",
     "output_type": "stream",
     "text": [
      "\n",
      " 64%|██████▍   | 3131/4905 [33:26<19:05,  1.55it/s]\u001b[A\n",
      " 67%|██████▋   | 3295/4905 [35:06<17:03,  1.57it/s]\u001b[A\n",
      " 70%|███████   | 3444/4905 [36:46<15:43,  1.55it/s]\u001b[A"
     ]
    },
    {
     "name": "stdout",
     "output_type": "stream",
     "text": [
      "Last average training loss at batch 3500 out of 4905: 1.883683955028653\n"
     ]
    },
    {
     "name": "stderr",
     "output_type": "stream",
     "text": [
      "\n",
      " 73%|███████▎  | 3593/4905 [38:27<14:18,  1.53it/s]\u001b[A\n",
      " 76%|███████▋  | 3750/4905 [40:07<12:30,  1.54it/s]\u001b[A\n",
      " 80%|███████▉  | 3913/4905 [41:48<10:34,  1.56it/s]\u001b[A"
     ]
    },
    {
     "name": "stdout",
     "output_type": "stream",
     "text": [
      "Last average training loss at batch 4000 out of 4905: 1.9459874205291272\n"
     ]
    },
    {
     "name": "stderr",
     "output_type": "stream",
     "text": [
      "\n",
      " 83%|████████▎ | 4079/4905 [43:28<08:39,  1.59it/s]\u001b[A\n",
      " 87%|████████▋ | 4252/4905 [45:08<06:40,  1.63it/s]\u001b[A\n",
      " 90%|█████████ | 4418/4905 [46:49<04:56,  1.64it/s]\u001b[A"
     ]
    },
    {
     "name": "stdout",
     "output_type": "stream",
     "text": [
      "Last average training loss at batch 4500 out of 4905: 1.6081356938034297\n"
     ]
    },
    {
     "name": "stderr",
     "output_type": "stream",
     "text": [
      "\n",
      " 93%|█████████▎| 4574/4905 [48:29<03:24,  1.61it/s]\u001b[A\n",
      " 97%|█████████▋| 4737/4905 [50:09<01:43,  1.62it/s]\u001b[A\n",
      "                                                   \u001b[A"
     ]
    },
    {
     "name": "stdout",
     "output_type": "stream",
     "text": [
      "Last average training loss at batch 4905 out of 4905: 0.1489554313982663\n"
     ]
    },
    {
     "name": "stderr",
     "output_type": "stream",
     "text": [
      "\n",
      "  0%|          | 0/702 [00:00<?, ?it/s]\u001b[A\n",
      "  0%|          | 0/702 [00:15<?, ?it/s]\u001b[A\n",
      " 21%|██        | 146/702 [01:20<05:06,  1.81it/s]\u001b[A\n",
      " 43%|████▎     | 303/702 [02:40<03:30,  1.90it/s]\u001b[A\n",
      " 65%|██████▌   | 457/702 [04:01<02:08,  1.90it/s]\u001b[A\n",
      " 85%|████████▌ | 599/702 [05:21<00:55,  1.85it/s]\u001b[A\n",
      "  3%|▎         | 3/100 [2:58:35<95:39:28, 3550.19s/it]"
     ]
    },
    {
     "name": "stdout",
     "output_type": "stream",
     "text": [
      "New best average validation loss of 1.6374008655548096 with accuracy 0.6394054184792968 during epoch 3\n",
      "Starting epoch 4 out of 100\n"
     ]
    },
    {
     "name": "stderr",
     "output_type": "stream",
     "text": [
      "\n",
      "  0%|          | 0/4905 [00:00<?, ?it/s]\u001b[A\n",
      "  0%|          | 0/4905 [00:15<?, ?it/s]\u001b[A\n",
      "  3%|▎         | 127/4905 [01:40<1:02:44,  1.27it/s]\u001b[A\n",
      "  6%|▌         | 271/4905 [03:20<56:24,  1.37it/s]  \u001b[A\n",
      "  9%|▊         | 417/4905 [05:00<53:06,  1.41it/s]\u001b[A"
     ]
    },
    {
     "name": "stdout",
     "output_type": "stream",
     "text": [
      "Last average training loss at batch 500 out of 4905: 1.4998581764549017\n"
     ]
    },
    {
     "name": "stderr",
     "output_type": "stream",
     "text": [
      "\n",
      " 11%|█         | 546/4905 [06:40<53:24,  1.36it/s]\u001b[A\n",
      " 14%|█▍        | 697/4905 [08:21<49:40,  1.41it/s]\u001b[A\n",
      " 18%|█▊        | 861/4905 [10:01<45:19,  1.49it/s]\u001b[A"
     ]
    },
    {
     "name": "stdout",
     "output_type": "stream",
     "text": [
      "Last average training loss at batch 1000 out of 4905: 1.438689155459404\n"
     ]
    },
    {
     "name": "stderr",
     "output_type": "stream",
     "text": [
      "\n",
      " 21%|██        | 1012/4905 [11:41<43:27,  1.49it/s]\u001b[A\n",
      " 23%|██▎       | 1141/4905 [13:22<43:57,  1.43it/s]\u001b[A\n",
      " 27%|██▋       | 1302/4905 [15:02<40:28,  1.48it/s]\u001b[A\n",
      " 30%|██▉       | 1454/4905 [16:42<38:30,  1.49it/s]\u001b[A"
     ]
    },
    {
     "name": "stdout",
     "output_type": "stream",
     "text": [
      "Last average training loss at batch 1500 out of 4905: 1.4952056872546673\n"
     ]
    },
    {
     "name": "stderr",
     "output_type": "stream",
     "text": [
      "\n",
      " 33%|███▎      | 1610/4905 [18:22<36:17,  1.51it/s]\u001b[A\n",
      " 36%|███▌      | 1765/4905 [20:03<34:23,  1.52it/s]\u001b[A\n",
      " 39%|███▉      | 1917/4905 [21:44<32:48,  1.52it/s]\u001b[A"
     ]
    },
    {
     "name": "stdout",
     "output_type": "stream",
     "text": [
      "Last average training loss at batch 2000 out of 4905: 1.57355305467546\n"
     ]
    },
    {
     "name": "stderr",
     "output_type": "stream",
     "text": [
      "\n",
      " 42%|████▏     | 2052/4905 [23:24<32:24,  1.47it/s]\u001b[A\n",
      " 45%|████▍     | 2198/4905 [25:05<30:52,  1.46it/s]\u001b[A\n",
      " 48%|████▊     | 2359/4905 [26:45<28:11,  1.50it/s]\u001b[A"
     ]
    },
    {
     "name": "stdout",
     "output_type": "stream",
     "text": [
      "Last average training loss at batch 2500 out of 4905: 1.7068410084694623\n"
     ]
    },
    {
     "name": "stderr",
     "output_type": "stream",
     "text": [
      "\n",
      " 51%|█████▏    | 2515/4905 [28:25<26:11,  1.52it/s]\u001b[A\n",
      " 54%|█████▍    | 2669/4905 [30:05<24:26,  1.52it/s]\u001b[A\n",
      " 57%|█████▋    | 2808/4905 [31:46<23:34,  1.48it/s]\u001b[A\n",
      " 61%|██████    | 2968/4905 [33:29<21:27,  1.50it/s]\u001b[A"
     ]
    },
    {
     "name": "stdout",
     "output_type": "stream",
     "text": [
      "Last average training loss at batch 3000 out of 4905: 1.8196926468014718\n"
     ]
    },
    {
     "name": "stderr",
     "output_type": "stream",
     "text": [
      "\n",
      " 63%|██████▎   | 3104/4905 [35:09<20:32,  1.46it/s]\u001b[A\n",
      " 66%|██████▋   | 3258/4905 [36:49<18:30,  1.48it/s]\u001b[A\n",
      " 70%|██████▉   | 3414/4905 [38:29<16:30,  1.50it/s]\u001b[A"
     ]
    },
    {
     "name": "stdout",
     "output_type": "stream",
     "text": [
      "Last average training loss at batch 3500 out of 4905: 1.8730333906710148\n"
     ]
    },
    {
     "name": "stderr",
     "output_type": "stream",
     "text": [
      "\n",
      " 73%|███████▎  | 3572/4905 [40:10<14:34,  1.52it/s]\u001b[A\n",
      " 76%|███████▋  | 3741/4905 [41:50<12:19,  1.57it/s]\u001b[A\n",
      " 80%|███████▉  | 3911/4905 [43:30<10:17,  1.61it/s]\u001b[A"
     ]
    },
    {
     "name": "stdout",
     "output_type": "stream",
     "text": [
      "Last average training loss at batch 4000 out of 4905: 1.937507289469242\n"
     ]
    },
    {
     "name": "stderr",
     "output_type": "stream",
     "text": [
      "\n",
      " 83%|████████▎ | 4065/4905 [45:10<08:48,  1.59it/s]\u001b[A\n",
      " 86%|████████▋ | 4238/4905 [46:51<06:49,  1.63it/s]\u001b[A\n",
      " 90%|████████▉ | 4402/4905 [48:32<05:09,  1.63it/s]\u001b[A"
     ]
    },
    {
     "name": "stdout",
     "output_type": "stream",
     "text": [
      "Last average training loss at batch 4500 out of 4905: 1.5999172981828451\n"
     ]
    },
    {
     "name": "stderr",
     "output_type": "stream",
     "text": [
      "\n",
      " 93%|█████████▎| 4572/4905 [50:12<03:22,  1.65it/s]\u001b[A\n",
      " 96%|█████████▋| 4722/4905 [51:53<01:54,  1.60it/s]\u001b[A\n",
      " 99%|█████████▉| 4880/4905 [53:33<00:15,  1.59it/s]\u001b[A"
     ]
    },
    {
     "name": "stdout",
     "output_type": "stream",
     "text": [
      "Last average training loss at batch 4905 out of 4905: 0.14827142731038803\n"
     ]
    },
    {
     "name": "stderr",
     "output_type": "stream",
     "text": [
      "\n",
      "                                                   \u001b[A\n",
      "  0%|          | 0/702 [00:00<?, ?it/s]\u001b[A\n",
      "  0%|          | 0/702 [00:16<?, ?it/s]\u001b[A\n",
      " 17%|█▋        | 121/702 [01:20<06:24,  1.51it/s]\u001b[A\n",
      " 32%|███▏      | 225/702 [02:40<05:44,  1.39it/s]\u001b[A\n",
      " 46%|████▋     | 326/702 [04:00<04:43,  1.33it/s]\u001b[A\n",
      " 57%|█████▋    | 403/702 [05:21<04:13,  1.18it/s]\u001b[A\n",
      " 70%|██████▉   | 488/702 [06:41<03:08,  1.13it/s]\u001b[A\n",
      " 86%|████████▌ | 604/702 [08:02<01:19,  1.24it/s]\u001b[A\n",
      "  4%|▍         | 4/100 [4:01:36<97:06:03, 3641.29s/it]"
     ]
    },
    {
     "name": "stdout",
     "output_type": "stream",
     "text": [
      "New best average validation loss of 1.6340446472167969 with accuracy 0.6435306539893596 during epoch 4\n",
      "Starting epoch 5 out of 100\n"
     ]
    },
    {
     "name": "stderr",
     "output_type": "stream",
     "text": [
      "\n",
      "  0%|          | 0/4905 [00:00<?, ?it/s]\u001b[A\n",
      "  0%|          | 0/4905 [00:14<?, ?it/s]\u001b[A\n",
      "  3%|▎         | 137/4905 [01:40<58:08,  1.37it/s]\u001b[A\n",
      "  5%|▌         | 258/4905 [03:20<1:00:47,  1.27it/s]\u001b[A\n",
      "  8%|▊         | 382/4905 [05:00<59:54,  1.26it/s]  \u001b[A"
     ]
    },
    {
     "name": "stdout",
     "output_type": "stream",
     "text": [
      "Last average training loss at batch 500 out of 4905: 1.493680271834135\n"
     ]
    },
    {
     "name": "stderr",
     "output_type": "stream",
     "text": [
      "\n",
      " 10%|█         | 508/4905 [06:41<58:23,  1.25it/s]\u001b[A\n",
      " 13%|█▎        | 652/4905 [08:21<53:42,  1.32it/s]\u001b[A\n",
      " 16%|█▌        | 783/4905 [10:02<52:16,  1.31it/s]\u001b[A\n",
      " 18%|█▊        | 896/4905 [11:42<53:17,  1.25it/s]\u001b[A\n",
      " 20%|██        | 981/4905 [13:22<58:15,  1.12it/s]\u001b[A"
     ]
    },
    {
     "name": "stdout",
     "output_type": "stream",
     "text": [
      "Last average training loss at batch 1000 out of 4905: 1.4286154877841473\n"
     ]
    },
    {
     "name": "stderr",
     "output_type": "stream",
     "text": [
      "\n",
      " 22%|██▏       | 1071/4905 [15:03<1:00:41,  1.05it/s]\u001b[A\n",
      " 23%|██▎       | 1136/4905 [16:45<1:08:07,  1.08s/it]\u001b[A\n",
      " 24%|██▍       | 1180/4905 [18:26<1:20:15,  1.29s/it]\u001b[A\n",
      " 25%|██▌       | 1232/4905 [20:06<1:27:51,  1.44s/it]\u001b[A\n",
      " 27%|██▋       | 1319/4905 [21:47<1:20:01,  1.34s/it]\u001b[A\n",
      " 29%|██▉       | 1435/4905 [23:27<1:06:28,  1.15s/it]\u001b[A"
     ]
    },
    {
     "name": "stdout",
     "output_type": "stream",
     "text": [
      "Last average training loss at batch 1500 out of 4905: 1.486925236582756\n"
     ]
    },
    {
     "name": "stderr",
     "output_type": "stream",
     "text": [
      "\n",
      " 31%|███       | 1530/4905 [25:08<1:02:59,  1.12s/it]\u001b[A\n",
      " 34%|███▎      | 1651/4905 [26:48<54:55,  1.01s/it]  \u001b[A\n",
      " 36%|███▌      | 1774/4905 [28:28<49:18,  1.06it/s]\u001b[A\n",
      " 39%|███▉      | 1914/4905 [30:08<42:57,  1.16it/s]\u001b[A"
     ]
    },
    {
     "name": "stdout",
     "output_type": "stream",
     "text": [
      "Last average training loss at batch 2000 out of 4905: 1.5639693871885538\n"
     ]
    },
    {
     "name": "stderr",
     "output_type": "stream",
     "text": [
      "\n",
      " 42%|████▏     | 2054/4905 [31:48<38:33,  1.23it/s]\u001b[A\n",
      " 45%|████▍     | 2186/4905 [33:29<36:05,  1.26it/s]\u001b[A\n",
      " 47%|████▋     | 2322/4905 [35:10<33:33,  1.28it/s]\u001b[A\n",
      " 50%|█████     | 2462/4905 [36:51<30:57,  1.31it/s]\u001b[A"
     ]
    },
    {
     "name": "stdout",
     "output_type": "stream",
     "text": [
      "Last average training loss at batch 2500 out of 4905: 1.703874213591218\n"
     ]
    },
    {
     "name": "stderr",
     "output_type": "stream",
     "text": [
      "\n",
      " 53%|█████▎    | 2624/4905 [38:31<27:02,  1.41it/s]\u001b[A\n",
      " 57%|█████▋    | 2790/4905 [40:11<23:47,  1.48it/s]\u001b[A"
     ]
    }
   ],
   "source": [
    "optimizer = torch.optim.Adam(model.parameters(), lr=0.001, betas=(0.9, 0.999), weight_decay=1e-5)\n",
    "lr_scheduler = torch.optim.lr_scheduler.ReduceLROnPlateau(optimizer, mode=\"min\", factor=0.1, patience=1)\n",
    "# loss_fn = torch.nn.BCEWithLogitsLoss(size_average=True)\n",
    "loss_fn = torch.nn.BCELoss(reduction=\"mean\")\n",
    "#loss_fn = torch.nn.CrossEntropyLoss(reduction=\"mean\")\n",
    "num_epochs = 100\n",
    "\n",
    "avg_train_loss_series, avg_val_loss_series, avg_val_acc_series = fit_chexnet(\n",
    "    model,\n",
    "    optimizer, \n",
    "    lr_scheduler, \n",
    "    loss_fn, \n",
    "    train_loader, \n",
    "    val_loader, \n",
    "    num_epochs,\n",
    "    len(ChestXRayDataset.target_labels),\n",
    "    \"result/chexnet/weights_experimental\",\n",
    "    device)"
   ]
  },
  {
   "cell_type": "code",
   "execution_count": null,
   "id": "459fcb9a-39f0-4a0c-9874-f1e163ff4eb4",
   "metadata": {},
   "outputs": [],
   "source": [
    "result_folder = \"result/chexnet\"\n",
    "save_series_plot(avg_train_loss_series, \"training loss\", result_folder, \"chexnet_train_loss\", True)\n",
    "save_series_plot(avg_val_loss_series, \"validation loss\", result_folder, \"chexnet_val_loss\", True)\n",
    "save_series_plot(avg_val_acc_series, \"validation accuracy\", result_folder, \"chexnet_val_acc\", True)"
   ]
  },
  {
   "cell_type": "code",
   "execution_count": null,
   "id": "c441a8ed-04d3-40da-a2a0-2925e3e9aa61",
   "metadata": {},
   "outputs": [],
   "source": [
    "# Validation block"
   ]
  }
 ],
 "metadata": {
  "kernelspec": {
   "display_name": "Python 3 (ipykernel)",
   "language": "python",
   "name": "python3"
  },
  "language_info": {
   "codemirror_mode": {
    "name": "ipython",
    "version": 3
   },
   "file_extension": ".py",
   "mimetype": "text/x-python",
   "name": "python",
   "nbconvert_exporter": "python",
   "pygments_lexer": "ipython3",
   "version": "3.10.4"
  }
 },
 "nbformat": 4,
 "nbformat_minor": 5
}
