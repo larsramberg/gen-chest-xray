{
 "cells": [
  {
   "cell_type": "code",
   "execution_count": 5,
   "id": "566ff1d1-ffdb-4ac5-bf26-b55681079abe",
   "metadata": {},
   "outputs": [],
   "source": [
    "import pandas as pd\n",
    "from datahandling.dataloader import get_list_from_txt, extract_annotation_targets\n",
    "from dotenv import load_dotenv\n",
    "import os"
   ]
  },
  {
   "cell_type": "code",
   "execution_count": 42,
   "id": "f94d0a57-6a1a-4b96-81ad-a48ffede95de",
   "metadata": {},
   "outputs": [
    {
     "name": "stdout",
     "output_type": "stream",
     "text": [
      "112120\n",
      "22424\n"
     ]
    }
   ],
   "source": [
    "load_dotenv()\n",
    "db_path = os.getenv(\"DB_PATH\")\n",
    "annotation_file = os.getenv(\"CLASSIFICATION_FILE\")\n",
    "\n",
    "target_folder = os.path.join(db_path, \"training_sets\", \"chexnet\")\n",
    "dataframe = pd.read_csv(os.path.join(db_path, annotation_file)) \n",
    "n_tot = len(dataframe)\n",
    "\n",
    "n_train = int(n_tot * .7)\n",
    "n_val = int(n_tot * .1)\n",
    "n_test = int(n_tot * .2)\n",
    "\n",
    "print(n_train + n_val + n_test)\n",
    "print(n_test)"
   ]
  },
  {
   "cell_type": "code",
   "execution_count": 43,
   "id": "a7d409b5-5f42-41c8-8b50-e843dff2b71d",
   "metadata": {},
   "outputs": [
    {
     "name": "stdout",
     "output_type": "stream",
     "text": [
      "22424\n"
     ]
    }
   ],
   "source": [
    "train = dataframe.sample(n_train)\n",
    "train.to_csv(os.path.join(target_folder, \"train.csv\"), index=False)\n",
    "\n",
    "dataframe = dataframe.drop(train.index)\n",
    "\n",
    "validation = dataframe.sample(n_val)\n",
    "validation.to_csv(os.path.join(target_folder, \"validation.csv\"), index=False)\n",
    "\n",
    "dataframe = dataframe.drop(validation.index)\n",
    "\n",
    "dataframe.to_csv(os.path.join(target_folder, \"test.csv\"), index=False)\n",
    "print(len(dataframe))"
   ]
  }
 ],
 "metadata": {
  "kernelspec": {
   "display_name": "Python 3 (ipykernel)",
   "language": "python",
   "name": "python3"
  },
  "language_info": {
   "codemirror_mode": {
    "name": "ipython",
    "version": 3
   },
   "file_extension": ".py",
   "mimetype": "text/x-python",
   "name": "python",
   "nbconvert_exporter": "python",
   "pygments_lexer": "ipython3",
   "version": "3.10.4"
  }
 },
 "nbformat": 4,
 "nbformat_minor": 5
}
