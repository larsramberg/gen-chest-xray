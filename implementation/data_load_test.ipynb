{
 "cells": [
  {
   "cell_type": "code",
   "execution_count": 1,
   "id": "566ff1d1-ffdb-4ac5-bf26-b55681079abe",
   "metadata": {},
   "outputs": [],
   "source": [
    "import pandas as pd\n",
    "from datahandling.dataloader import get_list_from_txt, extract_annotation_targets\n",
    "\n",
    "db_pth = \"E:\\\\repos\\\\chest-xray14\"\n",
    "annotations = pd.read_csv(db_pth+\"\\\\data_list.csv\")\n",
    "train_data = get_list_from_txt(db_pth+\"\\\\train_val_list.txt\")\n",
    "test_data = get_list_from_txt(db_pth+\"\\\\test_list.txt\")"
   ]
  },
  {
   "cell_type": "code",
   "execution_count": 4,
   "id": "f94d0a57-6a1a-4b96-81ad-a48ffede95de",
   "metadata": {},
   "outputs": [],
   "source": [
    "## Filter out images for train and validation sets\n",
    "annotations_train = extract_annotation_targets(annotations, \"Image Index\", train_data) #annotations[annotations[\"Image Index\"].isin(train_data)]\n",
    "annotations_test = extract_annotation_targets(annotations, \"Image Index\", test_data)   #annotations[annotations[\"Image Index\"].isin(test_data)]"
   ]
  }
 ],
 "metadata": {
  "kernelspec": {
   "display_name": "Python 3 (ipykernel)",
   "language": "python",
   "name": "python3"
  },
  "language_info": {
   "codemirror_mode": {
    "name": "ipython",
    "version": 3
   },
   "file_extension": ".py",
   "mimetype": "text/x-python",
   "name": "python",
   "nbconvert_exporter": "python",
   "pygments_lexer": "ipython3",
   "version": "3.11.6"
  }
 },
 "nbformat": 4,
 "nbformat_minor": 5
}
