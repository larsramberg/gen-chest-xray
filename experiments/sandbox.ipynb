{
 "cells": [
  {
   "cell_type": "code",
   "execution_count": 1,
   "id": "4a090f9f-37ee-4dc2-b5b5-b7a48df678d6",
   "metadata": {},
   "outputs": [
    {
     "name": "stderr",
     "output_type": "stream",
     "text": [
      "/cluster/home/larsira/.local/lib/python3.10/site-packages/tqdm/auto.py:21: TqdmWarning: IProgress not found. Please update jupyter and ipywidgets. See https://ipywidgets.readthedocs.io/en/stable/user_install.html\n",
      "  from .autonotebook import tqdm as notebook_tqdm\n"
     ]
    }
   ],
   "source": [
    "import torch"
   ]
  },
  {
   "cell_type": "code",
   "execution_count": 8,
   "id": "6729ba10-d757-4ae1-b8ca-57b53f0577b6",
   "metadata": {},
   "outputs": [
    {
     "name": "stdout",
     "output_type": "stream",
     "text": [
      "tensor([[[-0.1175, -1.6075, -0.7404,  ..., -1.7240,  1.5460,  0.9455],\n",
      "         [-2.1848,  0.2308, -0.2611,  ...,  0.5891,  0.8063,  0.9335],\n",
      "         [-1.0640,  0.7235,  0.0106,  ..., -0.7729, -2.5186,  1.2680],\n",
      "         ...,\n",
      "         [-0.2038, -1.2905,  0.4583,  ...,  1.2777, -1.7552, -0.1806],\n",
      "         [-0.7324,  0.2037, -0.1099,  ...,  0.0800, -0.7012, -0.4084],\n",
      "         [ 0.8572,  0.7819,  1.2227,  ...,  1.5547,  0.1814, -0.3997]],\n",
      "\n",
      "        [[ 0.4757,  0.3260,  0.7999,  ...,  0.3919,  1.0642,  0.5074],\n",
      "         [-0.1575, -0.5107,  1.1719,  ..., -1.5602, -0.2193,  0.9249],\n",
      "         [-1.6657,  0.1970,  0.6453,  ...,  0.1312,  0.7968, -0.5776],\n",
      "         ...,\n",
      "         [-0.5015,  0.1409,  0.8893,  ...,  0.0240, -1.0636,  0.5233],\n",
      "         [ 1.4218, -0.5082,  0.9030,  ...,  0.7234, -0.9484, -0.0664],\n",
      "         [ 0.5281,  0.1514, -0.5171,  ..., -1.6026,  0.1076, -1.3129]],\n",
      "\n",
      "        [[ 0.0708,  0.9419,  0.5506,  ...,  0.8729, -2.8569,  1.1776],\n",
      "         [-0.1118, -1.7100,  0.6258,  ...,  1.5515,  0.4666,  0.1418],\n",
      "         [-0.5344,  0.1764,  0.7755,  ...,  0.8559, -0.6911, -1.9003],\n",
      "         ...,\n",
      "         [-0.9974,  1.7245,  0.6888,  ...,  0.7158, -0.0729, -0.2396],\n",
      "         [ 1.3704,  1.0945, -0.6081,  ...,  0.8116,  0.9164,  0.3980],\n",
      "         [ 0.5473,  0.1814, -1.0163,  ...,  0.9704, -0.0330,  2.8425]]])\n"
     ]
    }
   ],
   "source": [
    "randimg = torch.randn(1,3,128,128)\n",
    "print(randimg[0])"
   ]
  }
 ],
 "metadata": {
  "kernelspec": {
   "display_name": "Python 3 (ipykernel)",
   "language": "python",
   "name": "python3"
  },
  "language_info": {
   "codemirror_mode": {
    "name": "ipython",
    "version": 3
   },
   "file_extension": ".py",
   "mimetype": "text/x-python",
   "name": "python",
   "nbconvert_exporter": "python",
   "pygments_lexer": "ipython3",
   "version": "3.10.4"
  }
 },
 "nbformat": 4,
 "nbformat_minor": 5
}
