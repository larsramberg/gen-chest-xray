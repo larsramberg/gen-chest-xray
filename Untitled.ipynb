{
 "cells": [
  {
   "cell_type": "code",
   "execution_count": 46,
   "id": "566ff1d1-ffdb-4ac5-bf26-b55681079abe",
   "metadata": {},
   "outputs": [],
   "source": [
    "import pandas as pd\n",
    "db_pth = \"/cluster/home/larsira/tdt4900/databases/chest_xray14\"\n",
    "annotations = pd.read_csv(db_pth+\"/data_list.csv\")\n",
    "test_data = []\n",
    "train_data = []\n",
    "with open(db_pth+\"/test_list.txt\") as f:\n",
    "    test_data = [x.rstrip() for x in f.readlines()]\n",
    "\n",
    "with open(db_pth+\"/train_val_list.txt\") as f:\n",
    "    train_data = [x.rstrip() for x in f.readlines()]"
   ]
  },
  {
   "cell_type": "code",
   "execution_count": 48,
   "id": "f94d0a57-6a1a-4b96-81ad-a48ffede95de",
   "metadata": {},
   "outputs": [],
   "source": [
    "## Filter out images for train and validation sets\n",
    "annotations_test = annotations[annotations[\"Image Index\"].isin(test_data)]\n",
    "annotations_train = annotations[annotations[\"Image Index\"].isin(train_data)]"
   ]
  }
 ],
 "metadata": {
  "kernelspec": {
   "display_name": "Python 3 (ipykernel)",
   "language": "python",
   "name": "python3"
  },
  "language_info": {
   "codemirror_mode": {
    "name": "ipython",
    "version": 3
   },
   "file_extension": ".py",
   "mimetype": "text/x-python",
   "name": "python",
   "nbconvert_exporter": "python",
   "pygments_lexer": "ipython3",
   "version": "3.10.4"
  }
 },
 "nbformat": 4,
 "nbformat_minor": 5
}
